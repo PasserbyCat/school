{
 "cells": [
  {
   "cell_type": "code",
   "execution_count": 1,
   "id": "8cbf02fc-ea8c-45ba-9ea1-d7b03aed7199",
   "metadata": {},
   "outputs": [
    {
     "name": "stdout",
     "output_type": "stream",
     "text": [
      "True x in s\n",
      "False x not in s\n",
      "[1, 2, 2, 3, 4, 5, 1, 2, 3, 4, 5] s + t\n",
      "[3, 4, 5, 3, 4, 5, 3, 4, 5] s * n\n",
      "8 len(s)\n",
      "1 min(s)\n",
      "5 max(s)\n"
     ]
    }
   ],
   "source": [
    "arr1 = [1, 2, 2, 3, 4, 5, 1, 2]\n",
    "arr2 = [3, 4, 5]\n",
    "print(3 in arr2, 'x in s')#判斷是否存在在arr1\n",
    "print(3 not in arr2, 'x not in s')#判斷是否不存在arr1\n",
    "print(arr1 + arr2, 's + t')#內容相加\n",
    "print(arr2 * 3, 's * n')#arr1+arr1+arr1\n",
    "print(len(arr1), 'len(s)')#幾個元素\n",
    "print(min(arr1), 'min(s)')\n",
    "print(max(arr1), 'max(s)')"
   ]
  },
  {
   "cell_type": "code",
   "execution_count": 2,
   "id": "fdf1a1f7-7aae-4f62-9819-e77f1e19f16e",
   "metadata": {},
   "outputs": [
    {
     "name": "stdout",
     "output_type": "stream",
     "text": [
      "1\n",
      "3 s.count(x)\n",
      "[1, 7, 2, 3, 4, 5, 1, 2] s[i] = x\n",
      "[1, 3, 4, 5, 3, 4, 5, 1, 2] s[i:j] = t\n",
      "[1, 3, 4, 4, 3, 5, 5, 1, 2] s[i:j:k] = t\n",
      "[1, 4, 3, 5, 5, 1, 2] del s[i:j]\n",
      "[1, 3, 5, 5, 1, 2] del s[i:j:k]\n",
      "[1, 3, 5, 5, 1, 2, 3] s.append(x)\n"
     ]
    }
   ],
   "source": [
    "print(arr1.index(2, 1, 6,)) #印出2在arr1[1]-arr1[6]的第一個位置\n",
    "print(arr1.count(2), 's.count(x)')#計算該元素出現在arr1的次數\n",
    "arr1[1]=7\n",
    "print(arr1, 's[i] = x')#對一個元素assign只能用一個元素\n",
    "arr1[1:3]=arr2\n",
    "print(arr1, 's[i:j] = t')#對一段assign多退少補\n",
    "arr1[1:6:2]=arr2\n",
    "print(arr1, 's[i:j:k] = t')#同上面那個不過要注意最後一個數字是不算的\n",
    "del arr1[1:3]\n",
    "print(arr1, 'del s[i:j]')#從i刪到j-1\n",
    "del arr1[1:3:2]\n",
    "print(arr1, 'del s[i:j:k]')#記得最後一位不算\n",
    "arr1.append(3)\n",
    "print(arr1, 's.append(x)')#在最後面放3"
   ]
  },
  {
   "cell_type": "code",
   "execution_count": 3,
   "id": "44c39cad-92e0-4bee-a700-bb3cab64f591",
   "metadata": {},
   "outputs": [
    {
     "name": "stdout",
     "output_type": "stream",
     "text": [
      "[] s.clear()\n",
      "[1, 3, 5, 5, 1, 2, 3] s.copy()\n",
      "[1, 3, 5, 5, 1, 2, 3, 3, 4, 5] s.extend(t)\n",
      "[1, 7, 3, 5, 5, 1, 2, 3, 3, 4, 5] s.insert(i,x)\n",
      "[1, 3, 5, 5, 1, 2, 3, 3, 4, 5] s.pop(i)\n",
      "[1, 3, 5, 5, 1, 3, 3, 4, 5] s.remove(x)\n",
      "[5, 4, 3, 3, 1, 5, 5, 3, 1] s.reverse()\n"
     ]
    }
   ],
   "source": [
    "arr2.clear()\n",
    "print(arr2, 's.clear()')#清空,和del s[:]同理\n",
    "arr2 = arr1.copy()\n",
    "print(arr2, 's.copy()')#和=s[:]同理\n",
    "arr2 = [3, 4, 5]\n",
    "arr1.extend(arr2)\n",
    "print(arr1, 's.extend(t)')#和s+t同理\n",
    "arr1.insert(1,7)\n",
    "print(arr1, 's.insert(i,x)')\n",
    "arr1.pop(1)\n",
    "print(arr1, 's.pop(i)')\n",
    "arr1.remove(2)\n",
    "print(arr1, 's.remove(x)')\n",
    "arr1.reverse()\n",
    "print(arr1, 's.reverse()')"
   ]
  },
  {
   "cell_type": "code",
   "execution_count": null,
   "id": "9c9a2215-a693-45ac-ae9f-e4ebec5c9687",
   "metadata": {},
   "outputs": [],
   "source": []
  }
 ],
 "metadata": {
  "kernelspec": {
   "display_name": "Python 3 (ipykernel)",
   "language": "python",
   "name": "python3"
  },
  "language_info": {
   "codemirror_mode": {
    "name": "ipython",
    "version": 3
   },
   "file_extension": ".py",
   "mimetype": "text/x-python",
   "name": "python",
   "nbconvert_exporter": "python",
   "pygments_lexer": "ipython3",
   "version": "3.9.7"
  }
 },
 "nbformat": 4,
 "nbformat_minor": 5
}
