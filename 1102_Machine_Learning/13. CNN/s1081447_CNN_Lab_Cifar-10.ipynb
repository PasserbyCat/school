{
 "cells": [
  {
   "cell_type": "markdown",
   "metadata": {},
   "source": [
    "# 載入 cifar10 資料集"
   ]
  },
  {
   "cell_type": "code",
   "execution_count": 1,
   "metadata": {},
   "outputs": [],
   "source": [
    "from tensorflow.keras.datasets import cifar10\n",
    "\n",
    "(x_train, y_train), (x_test, y_test) = cifar10.load_data()"
   ]
  },
  {
   "cell_type": "markdown",
   "metadata": {},
   "source": [
    "# 查看資料的 shape"
   ]
  },
  {
   "cell_type": "code",
   "execution_count": 2,
   "metadata": {},
   "outputs": [
    {
     "name": "stdout",
     "output_type": "stream",
     "text": [
      "x_train shape: (50000, 32, 32, 3)\n",
      "x_test shape: (10000, 32, 32, 3)\n"
     ]
    }
   ],
   "source": [
    "print('x_train shape:', x_train.shape)\n",
    "print('x_test shape:', x_test.shape)"
   ]
  },
  {
   "cell_type": "markdown",
   "metadata": {},
   "source": [
    "# 查看標籤的 shape"
   ]
  },
  {
   "cell_type": "code",
   "execution_count": 3,
   "metadata": {},
   "outputs": [
    {
     "name": "stdout",
     "output_type": "stream",
     "text": [
      "y_train shape: (50000, 1)\n",
      "y_test shape: (10000, 1)\n"
     ]
    }
   ],
   "source": [
    "print('y_train shape:', y_train.shape)\n",
    "print('y_test shape:', y_test.shape)"
   ]
  },
  {
   "cell_type": "markdown",
   "metadata": {},
   "source": [
    "# 查看標籤的內容 "
   ]
  },
  {
   "cell_type": "code",
   "execution_count": 4,
   "metadata": {},
   "outputs": [
    {
     "name": "stdout",
     "output_type": "stream",
     "text": [
      "[[6]\n",
      " [9]\n",
      " [9]\n",
      " [4]\n",
      " [1]\n",
      " [1]\n",
      " [2]\n",
      " [7]\n",
      " [8]\n",
      " [3]]\n"
     ]
    }
   ],
   "source": [
    "# 查看前10個訓練標籤\n",
    "print(y_train[0: 10])"
   ]
  },
  {
   "cell_type": "markdown",
   "metadata": {},
   "source": [
    "# 進行 min-max normalization"
   ]
  },
  {
   "cell_type": "code",
   "execution_count": 5,
   "metadata": {},
   "outputs": [
    {
     "name": "stdout",
     "output_type": "stream",
     "text": [
      "[0.23137255 0.24313726 0.24705882]\n"
     ]
    }
   ],
   "source": [
    "x_train_norm = x_train.astype('float32') / 255 #每個像素除與255\n",
    "x_test_norm = x_test.astype('float32') / 255 #每個像素除與255\n",
    "# min-max normalization後\n",
    "print(x_train_norm[0][0][0])"
   ]
  },
  {
   "cell_type": "markdown",
   "metadata": {},
   "source": [
    "# 將數字標籤進行 One-hot 編碼"
   ]
  },
  {
   "cell_type": "code",
   "execution_count": 6,
   "metadata": {},
   "outputs": [
    {
     "name": "stdout",
     "output_type": "stream",
     "text": [
      "[6]\n"
     ]
    }
   ],
   "source": [
    "from tensorflow.keras import utils\n",
    "\n",
    "# 轉換前\n",
    "print(y_train[0])"
   ]
  },
  {
   "cell_type": "code",
   "execution_count": 7,
   "metadata": {},
   "outputs": [
    {
     "name": "stdout",
     "output_type": "stream",
     "text": [
      "[0. 0. 0. 0. 0. 0. 1. 0. 0. 0.]\n"
     ]
    }
   ],
   "source": [
    "# 進行 One-hot 編碼轉換...\n",
    "y_train_onehot = utils.to_categorical(y_train, 10) #將訓練標籤進行 One-hot 編碼\n",
    "y_test_onehot = utils.to_categorical(y_test, 10) #將訓練標籤進行 One-hot 編碼\n",
    "\n",
    "# 轉換後\n",
    "print(y_train_onehot[0])"
   ]
  },
  {
   "cell_type": "markdown",
   "metadata": {},
   "source": [
    "# 建立 CNN 神經網路架構"
   ]
  },
  {
   "cell_type": "code",
   "execution_count": 8,
   "metadata": {},
   "outputs": [],
   "source": [
    "from tensorflow.keras.models import Sequential\n",
    "from tensorflow.keras.layers import Dense, Dropout, Flatten\n",
    "from tensorflow.keras.layers import Conv2D, MaxPooling2D"
   ]
  },
  {
   "cell_type": "code",
   "execution_count": 9,
   "metadata": {},
   "outputs": [],
   "source": [
    "# CNN\n",
    "cnn = Sequential()\n",
    "cnn.add(Conv2D(32, (3, 3), activation='relu', padding='same', input_shape=(32, 32, 3))) #卷積層 (輸入)\n",
    "cnn.add(Dropout(0.25)) #Dropout\n",
    "cnn.add(MaxPooling2D((2, 2))) #池化層\n",
    "\n",
    "cnn.add(Conv2D(64, (3, 3), padding='same', activation='relu')) #卷積層\n",
    "cnn.add(Dropout(0.25)) #Dropout層\n",
    "cnn.add(MaxPooling2D((2, 2))) #池化層\n",
    "\n",
    "cnn.add(Flatten()) #展平層\n",
    "cnn.add(Dropout(0.25)) #Dropout\n",
    "cnn.add(Dense(1024, activation='relu')) #密集層\n",
    "cnn.add(Dropout(0.25)) #Dropout\n",
    "cnn.add(Dense(10, activation='softmax')) #密集層 (輸出分類)"
   ]
  },
  {
   "cell_type": "code",
   "execution_count": 10,
   "metadata": {},
   "outputs": [],
   "source": [
    "# 神經網路的訓練配置 #\n",
    "cnn.compile(loss='categorical_crossentropy', #損失函數\n",
    "           optimizer='adam', #adam優化器\n",
    "           metrics=['acc']) #以準確度作為訓練指標"
   ]
  },
  {
   "cell_type": "code",
   "execution_count": 11,
   "metadata": {},
   "outputs": [
    {
     "name": "stdout",
     "output_type": "stream",
     "text": [
      "Epoch 1/20\n",
      "352/352 [==============================] - 53s 150ms/step - loss: 1.4752 - acc: 0.4693 - val_loss: 1.2829 - val_acc: 0.5750\n",
      "Epoch 2/20\n",
      "352/352 [==============================] - 56s 158ms/step - loss: 1.1055 - acc: 0.6087 - val_loss: 1.0874 - val_acc: 0.6474\n",
      "Epoch 3/20\n",
      "352/352 [==============================] - 57s 162ms/step - loss: 0.9541 - acc: 0.6648 - val_loss: 0.9939 - val_acc: 0.6698\n",
      "Epoch 4/20\n",
      "352/352 [==============================] - 58s 165ms/step - loss: 0.8558 - acc: 0.6996 - val_loss: 0.9106 - val_acc: 0.7160\n",
      "Epoch 5/20\n",
      "352/352 [==============================] - 59s 167ms/step - loss: 0.7622 - acc: 0.7313 - val_loss: 0.8281 - val_acc: 0.7276\n",
      "Epoch 6/20\n",
      "352/352 [==============================] - 56s 159ms/step - loss: 0.6734 - acc: 0.7631 - val_loss: 0.7901 - val_acc: 0.7418\n",
      "Epoch 7/20\n",
      "352/352 [==============================] - 56s 160ms/step - loss: 0.6000 - acc: 0.7893 - val_loss: 0.7813 - val_acc: 0.7332\n",
      "Epoch 8/20\n",
      "352/352 [==============================] - 61s 174ms/step - loss: 0.5331 - acc: 0.8135 - val_loss: 0.7467 - val_acc: 0.7536\n",
      "Epoch 9/20\n",
      "352/352 [==============================] - 59s 167ms/step - loss: 0.4622 - acc: 0.8377 - val_loss: 0.7250 - val_acc: 0.7532\n",
      "Epoch 10/20\n",
      "352/352 [==============================] - 59s 168ms/step - loss: 0.4067 - acc: 0.8588 - val_loss: 0.7128 - val_acc: 0.7544\n",
      "Epoch 11/20\n",
      "352/352 [==============================] - 59s 169ms/step - loss: 0.3595 - acc: 0.8750 - val_loss: 0.7191 - val_acc: 0.7552\n",
      "Epoch 12/20\n",
      "352/352 [==============================] - 59s 168ms/step - loss: 0.3173 - acc: 0.8892 - val_loss: 0.7187 - val_acc: 0.7606\n",
      "Epoch 13/20\n",
      "352/352 [==============================] - 59s 166ms/step - loss: 0.2818 - acc: 0.9000 - val_loss: 0.7045 - val_acc: 0.7644\n",
      "Epoch 14/20\n",
      "352/352 [==============================] - 57s 163ms/step - loss: 0.2518 - acc: 0.9130 - val_loss: 0.7645 - val_acc: 0.7498\n",
      "Epoch 15/20\n",
      "352/352 [==============================] - 59s 168ms/step - loss: 0.2343 - acc: 0.9175 - val_loss: 0.7229 - val_acc: 0.7624\n",
      "Epoch 16/20\n",
      "352/352 [==============================] - 60s 170ms/step - loss: 0.2107 - acc: 0.9261 - val_loss: 0.7299 - val_acc: 0.7612\n",
      "Epoch 17/20\n",
      "352/352 [==============================] - 59s 167ms/step - loss: 0.1974 - acc: 0.9318 - val_loss: 0.7340 - val_acc: 0.7660\n",
      "Epoch 18/20\n",
      "352/352 [==============================] - 62s 176ms/step - loss: 0.1790 - acc: 0.9393 - val_loss: 0.7380 - val_acc: 0.7668\n",
      "Epoch 19/20\n",
      "352/352 [==============================] - 60s 171ms/step - loss: 0.1687 - acc: 0.9422 - val_loss: 0.7514 - val_acc: 0.7646\n",
      "Epoch 20/20\n",
      "352/352 [==============================] - 59s 168ms/step - loss: 0.1592 - acc: 0.9453 - val_loss: 0.7636 - val_acc: 0.7616\n"
     ]
    }
   ],
   "source": [
    "# 進行訓練 #\n",
    "history = cnn.fit(x=x_train_norm, #訓練資料\n",
    "                 y=y_train_onehot, #訓練標籤\n",
    "                 batch_size=128, #每個批次用128筆資料進行訓練\n",
    "                 epochs=20, #20個訓練週期(次數)\n",
    "                 validation_split = 0.1, #拿出訓練資料的10%最為驗證資料\n",
    "                 )"
   ]
  },
  {
   "cell_type": "markdown",
   "metadata": {},
   "source": [
    "# 繪製圖表"
   ]
  },
  {
   "cell_type": "code",
   "execution_count": 12,
   "metadata": {},
   "outputs": [],
   "source": [
    "import matplotlib.pyplot as plt\n",
    "#建置繪圖函式\n",
    "def show_train_history(train_history,train,validation,label):\n",
    "    plt.plot(train_history.history[train])\n",
    "    plt.plot(train_history.history[validation])\n",
    "    plt.title('Train History')\n",
    "    plt.ylabel(label)\n",
    "    plt.xlabel('Epoch')#不同回合的變化\n",
    "    plt.legend(['train','validation'],loc='upper left')\n",
    "    plt.show()"
   ]
  },
  {
   "cell_type": "code",
   "execution_count": 13,
   "metadata": {},
   "outputs": [
    {
     "data": {
      "image/png": "[encoded data removed]",
      "text/plain": [
       "<Figure size 432x288 with 1 Axes>"
      ]
     },
     "metadata": {
      "needs_background": "light"
     },
     "output_type": "display_data"
    },
    {
     "data": {
      "image/png": "[encoded data removed]",
      "text/plain": [
       "<Figure size 432x288 with 1 Axes>"
      ]
     },
     "metadata": {
      "needs_background": "light"
     },
     "output_type": "display_data"
    }
   ],
   "source": [
    "#顯示訓練結果\n",
    "show_train_history(history,'acc','val_acc','accuracy')\n",
    "show_train_history(history,'loss','val_loss','loss')"
   ]
  },
  {
   "cell_type": "code",
   "execution_count": 14,
   "metadata": {},
   "outputs": [],
   "source": [
    "# --  儲存模型 -- #\n",
    "cnn.save('CNN_Model.h5')"
   ]
  },
  {
   "cell_type": "code",
   "execution_count": 15,
   "metadata": {},
   "outputs": [],
   "source": [
    "# -- 儲存模型權重-- #\n",
    "cnn.save_weights('CNN_weights.h5')"
   ]
  },
  {
   "cell_type": "code",
   "execution_count": 16,
   "metadata": {},
   "outputs": [
    {
     "name": "stdout",
     "output_type": "stream",
     "text": [
      "載入模型成功\n"
     ]
    }
   ],
   "source": [
    "# -- 載入模型 -- #\n",
    "from tensorflow.keras.models import load_model\n",
    "\n",
    "old_cnn = load_model('CNN_Model.h5')\n",
    "print('載入模型成功')"
   ]
  },
  {
   "cell_type": "markdown",
   "metadata": {},
   "source": [
    "# 使用測試資料評估神經網路"
   ]
  },
  {
   "cell_type": "code",
   "execution_count": 17,
   "metadata": {},
   "outputs": [
    {
     "name": "stdout",
     "output_type": "stream",
     "text": [
      "313/313 [==============================] - 3s 10ms/step - loss: 0.8051 - acc: 0.7418\n",
      "測試資料損失值: 0.8051263093948364\n",
      "測試資料準確度: 0.7418000102043152\n"
     ]
    }
   ],
   "source": [
    "# evaluate\n",
    "test_loss, test_val = cnn.evaluate(x_test_norm, y_test_onehot)\n",
    "print('測試資料損失值:', test_loss)\n",
    "print('測試資料準確度:', test_val)"
   ]
  },
  {
   "cell_type": "code",
   "execution_count": 18,
   "metadata": {},
   "outputs": [
    {
     "name": "stdout",
     "output_type": "stream",
     "text": [
      "第一筆測試資料的預測機率 [8.7064441e-04 1.0671535e-03 3.9973937e-04 9.1925246e-01 5.9640875e-05\n",
      " 6.6816412e-02 3.6776285e-03 2.0767179e-04 7.1442151e-03 5.0451135e-04]\n"
     ]
    }
   ],
   "source": [
    "# predict\n",
    "predict_prop = cnn.predict(x_test_norm)\n",
    "print('第一筆測試資料的預測機率', predict_prop[0])"
   ]
  },
  {
   "cell_type": "code",
   "execution_count": 19,
   "metadata": {},
   "outputs": [
    {
     "data": {
      "image/png": "[encoded data removed]",
      "text/plain": [
       "<Figure size 144x144 with 1 Axes>"
      ]
     },
     "metadata": {
      "needs_background": "light"
     },
     "output_type": "display_data"
    }
   ],
   "source": [
    "# -- 查看測試資料的第 1 張圖片 -- #\n",
    "import matplotlib.pyplot as plt\n",
    "\n",
    "fig = plt.gcf()\n",
    "fig.set_size_inches(2, 2)\n",
    "plt.imshow(x_test[0])\n",
    "plt.show()"
   ]
  },
  {
   "cell_type": "code",
   "execution_count": 20,
   "metadata": {},
   "outputs": [
    {
     "data": {
      "image/png": "[encoded data removed]",
      "text/plain": [
       "<Figure size 144x144 with 1 Axes>"
      ]
     },
     "metadata": {
      "needs_background": "light"
     },
     "output_type": "display_data"
    }
   ],
   "source": [
    "# -- 查看測試資料的第 2 張圖片 -- #\n",
    "fig = plt.gcf()\n",
    "fig.set_size_inches(2, 2)\n",
    "plt.imshow(x_test[1])\n",
    "plt.show()"
   ]
  },
  {
   "cell_type": "code",
   "execution_count": 21,
   "metadata": {},
   "outputs": [
    {
     "name": "stdout",
     "output_type": "stream",
     "text": [
      "WARNING:tensorflow:From C:\\Users\\mings\\AppData\\Local\\Temp\\ipykernel_17996\\704644816.py:2: Sequential.predict_classes (from tensorflow.python.keras.engine.sequential) is deprecated and will be removed after 2021-01-01.\n",
      "Instructions for updating:\n",
      "Please use instead:* `np.argmax(model.predict(x), axis=-1)`,   if your model does multi-class classification   (e.g. if it uses a `softmax` last-layer activation).* `(model.predict(x) > 0.5).astype(\"int32\")`,   if your model does binary classification   (e.g. if it uses a `sigmoid` last-layer activation).\n",
      "前 10 筆預測標籤: [3 8 8 0 6 6 1 6 3 1]\n",
      "前 10 筆原始標籤: [3 8 8 0 6 6 1 6 3 1]\n"
     ]
    }
   ],
   "source": [
    "# -- 直接預測數字標籤 -- #\n",
    "predict_class = cnn.predict_classes(x_test_norm)\n",
    "print('前 10 筆預測標籤:', predict_class[: 10])\n",
    "print('前 10 筆原始標籤:', y_test[: 10].reshape(10))"
   ]
  },
  {
   "cell_type": "code",
   "execution_count": null,
   "metadata": {},
   "outputs": [],
   "source": []
  }
 ],
 "metadata": {
  "kernelspec": {
   "display_name": "Python 3 (ipykernel)",
   "language": "python",
   "name": "python3"
  },
  "language_info": {
   "codemirror_mode": {
    "name": "ipython",
    "version": 3
   },
   "file_extension": ".py",
   "mimetype": "text/x-python",
   "name": "python",
   "nbconvert_exporter": "python",
   "pygments_lexer": "ipython3",
   "version": "3.8.13"
  }
 },
 "nbformat": 4,
 "nbformat_minor": 4
}
