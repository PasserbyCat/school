{
 "cells": [
  {
   "cell_type": "code",
   "execution_count": 1,
   "metadata": {},
   "outputs": [],
   "source": [
    "import numpy as np"
   ]
  },
  {
   "cell_type": "code",
   "execution_count": 2,
   "metadata": {},
   "outputs": [],
   "source": [
    "from numpy import random"
   ]
  },
  {
   "cell_type": "code",
   "execution_count": 3,
   "metadata": {},
   "outputs": [
    {
     "data": {
      "text/plain": [
       "array([ 9,  2,  3,  4, 10,  6,  7,  8,  1,  5])"
      ]
     },
     "execution_count": 3,
     "metadata": {},
     "output_type": "execute_result"
    }
   ],
   "source": [
    "#輸入np array\n",
    "data = np.array([9, 2, 3, 4, 10, 6, 7, 8, 1, 5])\n",
    "data"
   ]
  },
  {
   "cell_type": "code",
   "execution_count": 4,
   "metadata": {},
   "outputs": [
    {
     "data": {
      "text/plain": [
       "dtype('int32')"
      ]
     },
     "execution_count": 4,
     "metadata": {},
     "output_type": "execute_result"
    }
   ],
   "source": [
    "data.dtype#查詢資料型別"
   ]
  },
  {
   "cell_type": "code",
   "execution_count": 5,
   "metadata": {},
   "outputs": [
    {
     "name": "stdout",
     "output_type": "stream",
     "text": [
      "維度 : 1\n",
      "元素數量 : 10\n"
     ]
    }
   ],
   "source": [
    "#輸入計算出array維度與元素數量\n",
    "data = np.array([9, 2, 3, 4, 10, 6, 7, 8, 1, 5])\n",
    "print('維度 :', data.ndim)\n",
    "print('元素數量 :', data.size)"
   ]
  },
  {
   "cell_type": "code",
   "execution_count": 12,
   "metadata": {},
   "outputs": [
    {
     "name": "stdout",
     "output_type": "stream",
     "text": [
      "data * 2 : [18  4  6  8 20 12 14 16  2 10]\n",
      "乘法算算 : [10 18 24 28 30 30 28 24 18  9]\n",
      "連乘 : [ 81   4   9  16 100  36  49  64   1  25]\n",
      "除法 : [0.1   0.222 0.375 0.571 0.833 1.2   1.75  2.667 4.5   9.   ]\n"
     ]
    }
   ],
   "source": [
    "data = np.array([9, 2, 3, 4, 10, 6, 7, 8, 1, 5])\n",
    "one = np.array([1, 2, 3, 4, 5, 6, 7, 8, 9, 9])\n",
    "two = np.array([10, 9, 8, 7, 6, 5, 4, 3, 2, 1])\n",
    "print('data * 2 :', data * 2)#可直接對array進行四則運算\n",
    "print('乘法算算 :', one * two)#要記得對象若也是array長度要相等\n",
    "print('連乘 :', data ** 2)#data的2次方\n",
    "print('除法 :', np.around((one / two), 3))#around強迫四捨五入到小數點後第三位"
   ]
  },
  {
   "cell_type": "code",
   "execution_count": 13,
   "metadata": {},
   "outputs": [
    {
     "name": "stdout",
     "output_type": "stream",
     "text": [
      "原本的值 : [ 9  2  3  4 10  6  7  8  1  5]\n",
      "小到大的排序 [ 1  2  3  4  5  6  7  8  9 10]\n",
      "大到小的排序 [10  9  8  7  6  5  4  3  2  1]\n"
     ]
    }
   ],
   "source": [
    "#array值排序\n",
    "data = np.array([9, 2, 3, 4, 10, 6, 7, 8, 1, 5])\n",
    "print('原本的值 :', data)\n",
    "data.sort()\n",
    "print('小到大的排序', data)\n",
    "data[::-1].sort()\n",
    "print('大到小的排序', data)"
   ]
  },
  {
   "cell_type": "code",
   "execution_count": 14,
   "metadata": {},
   "outputs": [
    {
     "name": "stdout",
     "output_type": "stream",
     "text": [
      "最小值 : 1\n",
      "最大值 : 10\n",
      "總和 : 55\n",
      "累積和 : [ 9 11 14 18 28 34 41 49 50 55]\n",
      "累積比例 : [0.164 0.2   0.255 0.327 0.509 0.618 0.745 0.891 0.909 1.   ]\n"
     ]
    }
   ],
   "source": [
    "#array最小值、最大值、總和、累積和、累積比例\n",
    "data = np.array([9, 2, 3, 4, 10, 6, 7, 8, 1, 5])\n",
    "print('最小值 :', data.min())\n",
    "print('最大值 :', data.max())\n",
    "print('總和 :', data.sum())\n",
    "print('累積和 :', data.cumsum())\n",
    "print('累積比例 :', data.cumsum() / data.sum())"
   ]
  },
  {
   "cell_type": "code",
   "execution_count": 15,
   "metadata": {},
   "outputs": [
    {
     "name": "stdout",
     "output_type": "stream",
     "text": [
      "均勻分布，0.0以上，小於1.0 : [0.549 0.715 0.603 0.545 0.424 0.646 0.438 0.892 0.964 0.383]\n",
      "均勻分布，0.0以上，小於1.0(和rand的引數指定方法不同) : [0.549 0.715 0.603 0.545 0.424 0.646 0.438 0.892 0.964 0.383]\n",
      "均勻分布。任意範圍的整數 : 45\n",
      "常態分布。平均為0、標準差為1的亂數 : [ 1.764  0.4    0.979  2.241  1.868 -0.977  0.95  -0.151 -0.103  0.411]\n",
      "常態分布。任意平均、標準差的亂數 : [10.176 10.04  10.098 10.224 10.187  9.902 10.095  9.985  9.99  10.041]\n",
      "卡方分布的亂數 : [1.759e+00 6.570e-01 1.009e-02 8.176e-04 1.643e+00 8.620e+00 4.259e-01\n",
      " 2.798e-02 4.110e-02 5.457e-01]\n"
     ]
    }
   ],
   "source": [
    "#產生亂數\n",
    "random.seed(0)#指定亂數種子\n",
    "print('均勻分布，0.0以上，小於1.0 :',random.rand(10))#若在括號內給兩個數值m,n則會生成m*n的矩陣\n",
    "random.seed(0)#指定亂數種子\n",
    "print('均勻分布，0.0以上，小於1.0(和rand的引數指定方法不同) :',random.random_sample(10))\n",
    "random.seed(0)#指定亂數種子\n",
    "print('均勻分布。任意範圍的整數 :',random.randint(1,100))#在1~100生成隨機整數\n",
    "random.seed(0)#指定亂數種子\n",
    "print('常態分布。平均為0、標準差為1的亂數 :',random.randn(10))#若在括號內給兩個數值m,n則會生成m*n的矩陣\n",
    "random.seed(0)#指定亂數種子\n",
    "print('常態分布。任意平均、標準差的亂數 :',random.normal(loc = 10, scale = 0.1, size = 10))#loc=平均值/scale=標準差/size=大小(亦可設定成矩陣)\n",
    "#print('二項分布的亂數 :',random.bionomial(10))_還沒研究\n",
    "#print('betta分布的亂數 :',random.beta(10))_還沒研究\n",
    "#print('gamma分布的亂數 :',random.gemma(10))_還沒研究\n",
    "print('卡方分布的亂數 :',random.chisquare(df = 1, size = 10))#df=自由度數/size=大小(亦可設定成矩陣)"
   ]
  },
  {
   "cell_type": "code",
   "execution_count": 16,
   "metadata": {},
   "outputs": [
    {
     "data": {
      "text/plain": [
       "'%.3f'"
      ]
     },
     "execution_count": 16,
     "metadata": {},
     "output_type": "execute_result"
    }
   ],
   "source": [
    "#顯示到小數點後第三位\n",
    "%precision 3"
   ]
  },
  {
   "cell_type": "code",
   "execution_count": 17,
   "metadata": {},
   "outputs": [
    {
     "name": "stdout",
     "output_type": "stream",
     "text": [
      "[ 4  3  8  3  9  9 10  6  6  7]\n",
      "[ 4  6  9  7  3  8  5  2 10  1]\n"
     ]
    }
   ],
   "source": [
    "data = np.array([9,2,3,4,10,6,7,8,1,5])\n",
    "\n",
    "# 隨機取出\n",
    "# 取出10個(允許重複，放回抽樣)\n",
    "print(random.choice(data, 10))\n",
    "#  取出10個(不允許重複，不放回抽樣)\n",
    "print(random.choice(data, 10, replace = False))"
   ]
  },
  {
   "cell_type": "code",
   "execution_count": 18,
   "metadata": {},
   "outputs": [
    {
     "name": "stdout",
     "output_type": "stream",
     "text": [
      "[0 1 2 3 4 5 6 7 8]\n",
      "[[0 1 2]\n",
      " [3 4 5]\n",
      " [6 7 8]]\n",
      "第一列 : [0 1 2]\n",
      "第一行 : [0 3 6]\n"
     ]
    }
   ],
   "source": [
    "#產生矩陣\n",
    "array1 = np.arange(9)\n",
    "print(array1)\n",
    "array2 = np.arange(9).reshape(3,3)\n",
    "print(array2)\n",
    "print('第一列 :', array2[0,:])\n",
    "print('第一行 :', array2[:,0])"
   ]
  },
  {
   "cell_type": "code",
   "execution_count": 19,
   "metadata": {},
   "outputs": [
    {
     "name": "stdout",
     "output_type": "stream",
     "text": [
      "array1 : [[0 1 2]\n",
      " [3 4 5]\n",
      " [6 7 8]]\n",
      "array2 : [[ 9 10 11]\n",
      " [12 13 14]\n",
      " [15 16 17]]\n",
      "矩陣乘法 : [[ 42  45  48]\n",
      " [150 162 174]\n",
      " [258 279 300]]\n",
      "元素相乘 : [[  0  10  22]\n",
      " [ 36  52  70]\n",
      " [ 90 112 136]]\n"
     ]
    }
   ],
   "source": [
    "#矩陣運算\n",
    "array1 = np.arange(9).reshape(3,3)\n",
    "array2 = np.arange(9, 18).reshape(3,3)#arrange(start,end)\n",
    "print('array1 :', array1)\n",
    "print('array2 :', array2)\n",
    "print('矩陣乘法 :', np.dot(array1, array2))\n",
    "print('元素相乘 :', array1 * array2)#個元素對應位置相乘"
   ]
  },
  {
   "cell_type": "code",
   "execution_count": 20,
   "metadata": {},
   "outputs": [
    {
     "name": "stdout",
     "output_type": "stream",
     "text": [
      "[[0 0 0]\n",
      " [0 0 0]]\n",
      "[[1. 1. 1.]\n",
      " [1. 1. 1.]]\n"
     ]
    }
   ],
   "source": [
    "#製作元素為0或1的矩陣\n",
    "print(np.zeros((2, 3), dtype = np.int64))\n",
    "print(np.ones((2, 3), dtype = np.float64))#可定義型態"
   ]
  },
  {
   "cell_type": "code",
   "execution_count": null,
   "metadata": {},
   "outputs": [],
   "source": []
  }
 ],
 "metadata": {
  "kernelspec": {
   "display_name": "Python 3 (ipykernel)",
   "language": "python",
   "name": "python3"
  },
  "language_info": {
   "codemirror_mode": {
    "name": "ipython",
    "version": 3
   },
   "file_extension": ".py",
   "mimetype": "text/x-python",
   "name": "python",
   "nbconvert_exporter": "python",
   "pygments_lexer": "ipython3",
   "version": "3.9.7"
  }
 },
 "nbformat": 4,
 "nbformat_minor": 4
}
