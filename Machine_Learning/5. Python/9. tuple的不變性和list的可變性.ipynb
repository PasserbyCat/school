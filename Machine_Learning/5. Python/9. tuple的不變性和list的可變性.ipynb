{
 "cells": [
  {
   "cell_type": "code",
   "execution_count": 3,
   "id": "8cbf02fc-ea8c-45ba-9ea1-d7b03aed7199",
   "metadata": {},
   "outputs": [],
   "source": [
    "t = (23, 'abc', 4.56, (2,3), 'def')\n",
    "#t[2]=3.14 該指令不能執行，無法修改tuple內的單一元素"
   ]
  },
  {
   "cell_type": "code",
   "execution_count": 4,
   "id": "9c9a2215-a693-45ac-ae9f-e4ebec5c9687",
   "metadata": {},
   "outputs": [
    {
     "name": "stdout",
     "output_type": "stream",
     "text": [
      "['abc', 45, 4.34, 23]\n"
     ]
    }
   ],
   "source": [
    "li = ['abc', 23, 4.34, 23]\n",
    "li[1] = 45\n",
    "print(li)"
   ]
  },
  {
   "cell_type": "code",
   "execution_count": 5,
   "id": "7d504213-6199-496f-993c-56c609494f44",
   "metadata": {},
   "outputs": [
    {
     "name": "stdout",
     "output_type": "stream",
     "text": [
      "[1, 2, 3, 4, 5, 'a']\n",
      "[1, 2, 'i', 3, 4, 5, 'a']\n",
      "[1, 2, 'i', 3, 4, 5, 'a', 9, 8, 7]\n",
      "[1, 2, 'i', 3, 4, 5, 'a', 9, 8, 7, [9, 8, 7]]\n"
     ]
    }
   ],
   "source": [
    "li = [1, 2, 3, 4, 5]\n",
    "li.append('a')\n",
    "print(li)\n",
    "li.insert(2, 'i')\n",
    "print(li)\n",
    "li.extend([9, 8, 7])#內容物是為多個物件\n",
    "print(li)\n",
    "li.append([9, 8, 7])#內容物視為單一物件\n",
    "print(li)"
   ]
  },
  {
   "cell_type": "code",
   "execution_count": 6,
   "id": "6f226e21-4cdd-4975-87d6-eb3a35425753",
   "metadata": {},
   "outputs": [
    {
     "name": "stdout",
     "output_type": "stream",
     "text": [
      "1\n",
      "2\n",
      "['a', 'c', 'b']\n"
     ]
    }
   ],
   "source": [
    "li = ['a', 'b', 'c', 'b']\n",
    "print(li.index('b'))#找出他第一次出現的位置\n",
    "print(li.count('b'))#找出b出現的次數\n",
    "li.remove('b')\n",
    "print(li)"
   ]
  },
  {
   "cell_type": "code",
   "execution_count": 7,
   "id": "533b8788-94e3-4ebf-be26-a94174b6948b",
   "metadata": {},
   "outputs": [
    {
     "name": "stdout",
     "output_type": "stream",
     "text": [
      "[8, 6, 2, 5]\n",
      "[2, 5, 6, 8]\n"
     ]
    }
   ],
   "source": [
    "li = [5, 2, 6, 8]\n",
    "li.reverse()#順序反轉\n",
    "print(li)\n",
    "li.sort()#由小排到大\n",
    "print(li)"
   ]
  },
  {
   "cell_type": "code",
   "execution_count": null,
   "id": "936cab86-5232-462c-be4f-946d342fbb7f",
   "metadata": {},
   "outputs": [],
   "source": []
  }
 ],
 "metadata": {
  "kernelspec": {
   "display_name": "Python 3 (ipykernel)",
   "language": "python",
   "name": "python3"
  },
  "language_info": {
   "codemirror_mode": {
    "name": "ipython",
    "version": 3
   },
   "file_extension": ".py",
   "mimetype": "text/x-python",
   "name": "python",
   "nbconvert_exporter": "python",
   "pygments_lexer": "ipython3",
   "version": "3.9.7"
  }
 },
 "nbformat": 4,
 "nbformat_minor": 5
}
