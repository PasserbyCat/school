{
 "cells": [
  {
   "cell_type": "code",
   "execution_count": 4,
   "id": "8cbf02fc-ea8c-45ba-9ea1-d7b03aed7199",
   "metadata": {},
   "outputs": [
    {
     "name": "stdout",
     "output_type": "stream",
     "text": [
      "7\n",
      "3\n",
      "10\n",
      "2.5\n",
      "2\n",
      "1\n",
      "25\n"
     ]
    }
   ],
   "source": [
    "#基本運算\n",
    "print(5+2)\n",
    "print(5-2)\n",
    "print(5*2)\n",
    "print(5/2)\n",
    "print(5//2)#取商數\n",
    "print(5%2)\n",
    "print(5**2)#5^2"
   ]
  },
  {
   "cell_type": "code",
   "execution_count": 5,
   "id": "68cd3c67-d06e-4314-86ac-f86e8e5e4dbc",
   "metadata": {},
   "outputs": [
    {
     "name": "stdout",
     "output_type": "stream",
     "text": [
      "False\n",
      "False\n",
      "True\n",
      "True\n",
      "False\n",
      "True\n"
     ]
    }
   ],
   "source": [
    "#比大小\n",
    "print(5<2)\n",
    "print(5<=2)\n",
    "print(5>2)\n",
    "print(5>=2)\n",
    "print(5==2)\n",
    "print(5!=2)"
   ]
  },
  {
   "cell_type": "code",
   "execution_count": 6,
   "id": "569563da-dcc4-4077-a52d-81247338072d",
   "metadata": {},
   "outputs": [
    {
     "name": "stdout",
     "output_type": "stream",
     "text": [
      "True\n",
      "False\n",
      "False\n"
     ]
    }
   ],
   "source": [
    "#布林運算\n",
    "print(5!=2 or 5<=2)\n",
    "print(5==2 and 5>=2)\n",
    "print(not 5!=2)"
   ]
  },
  {
   "cell_type": "code",
   "execution_count": null,
   "id": "364026d6-f743-4deb-a3d4-5fe7b46e5677",
   "metadata": {},
   "outputs": [],
   "source": []
  }
 ],
 "metadata": {
  "kernelspec": {
   "display_name": "Python 3 (ipykernel)",
   "language": "python",
   "name": "python3"
  },
  "language_info": {
   "codemirror_mode": {
    "name": "ipython",
    "version": 3
   },
   "file_extension": ".py",
   "mimetype": "text/x-python",
   "name": "python",
   "nbconvert_exporter": "python",
   "pygments_lexer": "ipython3",
   "version": "3.9.7"
  }
 },
 "nbformat": 4,
 "nbformat_minor": 5
}
