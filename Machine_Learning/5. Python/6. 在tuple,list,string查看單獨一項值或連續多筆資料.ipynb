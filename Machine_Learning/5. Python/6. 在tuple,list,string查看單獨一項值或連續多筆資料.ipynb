{
 "cells": [
  {
   "cell_type": "code",
   "execution_count": 1,
   "id": "8cbf02fc-ea8c-45ba-9ea1-d7b03aed7199",
   "metadata": {},
   "outputs": [
    {
     "name": "stdout",
     "output_type": "stream",
     "text": [
      "abc\n",
      "34\n",
      "e\n",
      "4.56\n",
      "('abc', 4.56, (2, 3))\n",
      "('abc', 4.56, (2, 3))\n",
      "(23, 'abc')\n",
      "(23, 'abc', 4.56, (2, 3), 'def')\n",
      "['abc', 32, 4.34, 23]\n",
      "['abc', 34, 4.34, 23]\n"
     ]
    }
   ],
   "source": [
    "tu = (23, 'abc', 4.56, (2, 3), 'def')#tuple用小括號定義\n",
    "li = [\"abc\", 34, 4.34, 23]#list用中括號定義\n",
    "st = \"Hello World\"\n",
    "st = 'Hello World'#string可用雙引號或單引號定義\n",
    "print(tu[1])#第一項是0,印出'abc'\n",
    "print(li[1])#第一項是0,印出34\n",
    "print(st[1])#第一項是0,印出'e'\n",
    "print(tu[-3])#最後一項是-1,往回數越小,印出4.56\n",
    "print(tu[1:4])#從1印到4但4不算,印出('abc',4.56,(2, 3))\n",
    "print(tu[1:-1])#從1印到-1但-1(即4)不算,只能順項印\n",
    "print(tu[:2])#從頭印到2但2不算,印出(23'abc)'\n",
    "print(tu[:])#全印\n",
    "list1 = li#此時li有第二個名稱list1但視為同一個list\n",
    "list2 = li[:]#此時list2為li的copy,兩者是不相關的\n",
    "li[1] = 32\n",
    "print(list1)\n",
    "print(list2)"
   ]
  },
  {
   "cell_type": "code",
   "execution_count": 2,
   "id": "fdf1a1f7-7aae-4f62-9819-e77f1e19f16e",
   "metadata": {},
   "outputs": [
    {
     "name": "stdout",
     "output_type": "stream",
     "text": [
      "[1, 2, 3, 4, 5]\n",
      "[1, 3, 5, 7, 9]\n",
      "[1, 2, 3, 4, 5, 6, 7, 8, 9, 10]\n",
      "False\n",
      " world\n",
      "[1, 2, 3, 4, 5, 6, 7, 8, 9]\n"
     ]
    }
   ],
   "source": [
    "str1 = 'hello world'\n",
    "arr1 = [1, 2, 3, 4, 5, 6, 7, 8, 9, 10]\n",
    "arr2 = arr1[0:5]\n",
    "arr3 = arr1[0:-1:2]#每隔兩個取一次\n",
    "arr4 = arr1[:]\n",
    "\n",
    "print(arr2)\n",
    "print(arr3)\n",
    "print(arr4)\n",
    "print(arr4 is arr1)#必須視同一個物件才會回傳true(在list的時候)\n",
    "print(str1[5:])\n",
    "print(arr1[:-1])"
   ]
  },
  {
   "cell_type": "code",
   "execution_count": null,
   "id": "565cf178-4177-41cb-8ba2-8391abdc9c74",
   "metadata": {},
   "outputs": [],
   "source": []
  }
 ],
 "metadata": {
  "kernelspec": {
   "display_name": "Python 3 (ipykernel)",
   "language": "python",
   "name": "python3"
  },
  "language_info": {
   "codemirror_mode": {
    "name": "ipython",
    "version": 3
   },
   "file_extension": ".py",
   "mimetype": "text/x-python",
   "name": "python",
   "nbconvert_exporter": "python",
   "pygments_lexer": "ipython3",
   "version": "3.9.7"
  }
 },
 "nbformat": 4,
 "nbformat_minor": 5
}
