{
 "cells": [
  {
   "cell_type": "code",
   "execution_count": 15,
   "id": "8cbf02fc-ea8c-45ba-9ea1-d7b03aed7199",
   "metadata": {},
   "outputs": [
    {
     "name": "stdout",
     "output_type": "stream",
     "text": [
      "True x in s\n",
      "False x not in s\n",
      "[1, 2, 2, 3, 4, 5, 1, 2, 3, 4, 5] s + t\n",
      "[3, 4, 5, 3, 4, 5, 3, 4, 5] s * n\n",
      "8 len(s)\n",
      "1 min(s)\n",
      "5 max(s)\n"
     ]
    }
   ],
   "source": [
    "#if elif else 教學\n",
    "grade = 90\n",
    "if grade >= 90:\n",
    "    print('Excellent!')\n",
    "elif grade >= 60:\n",
    "    print('Good enough!')\n",
    "else:\n",
    "    print('Loser!')"
   ]
  },
  {
   "cell_type": "code",
   "execution_count": null,
   "id": "9c9a2215-a693-45ac-ae9f-e4ebec5c9687",
   "metadata": {},
   "outputs": [],
   "source": []
  }
 ],
 "metadata": {
  "kernelspec": {
   "display_name": "Python 3 (ipykernel)",
   "language": "python",
   "name": "python3"
  },
  "language_info": {
   "codemirror_mode": {
    "name": "ipython",
    "version": 3
   },
   "file_extension": ".py",
   "mimetype": "text/x-python",
   "name": "python",
   "nbconvert_exporter": "python",
   "pygments_lexer": "ipython3",
   "version": "3.9.7"
  }
 },
 "nbformat": 4,
 "nbformat_minor": 5
}
