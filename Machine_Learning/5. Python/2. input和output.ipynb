{
 "cells": [
  {
   "cell_type": "code",
   "execution_count": 1,
   "id": "8cbf02fc-ea8c-45ba-9ea1-d7b03aed7199",
   "metadata": {},
   "outputs": [
    {
     "name": "stdout",
     "output_type": "stream",
     "text": [
      "Hi, my name is Simon\n"
     ]
    }
   ],
   "source": [
    "print('Hi, my name is', 'Simon')#一般變數與字串必須用,(逗點)分隔"
   ]
  },
  {
   "cell_type": "code",
   "execution_count": 2,
   "id": "68cd3c67-d06e-4314-86ac-f86e8e5e4dbc",
   "metadata": {},
   "outputs": [
    {
     "name": "stdout",
     "output_type": "stream",
     "text": [
      "10 12.3 (3+5j) hello python True\n",
      "<class 'int'>\n",
      "<class 'float'>\n",
      "<class 'complex'>\n",
      "<class 'str'>\n",
      "<class 'bool'>\n",
      "None\n",
      "True\n"
     ]
    }
   ],
   "source": [
    "iv = 10\n",
    "fv = 12.3\n",
    "cv = 3 + 5j\n",
    "sv = 'hello python'\n",
    "bv = True\n",
    "nv = None\n",
    "#用初始值定義變數型態\n",
    "print(iv, fv, cv, sv, bv)\n",
    "print(type(iv))\n",
    "print(type(fv))\n",
    "print(type(cv))\n",
    "print(type(sv))\n",
    "print(type(bv))\n",
    "print(nv)\n",
    "print(isinstance(sv,str))#判斷型態回傳true/false"
   ]
  },
  {
   "cell_type": "code",
   "execution_count": 3,
   "id": "569563da-dcc4-4077-a52d-81247338072d",
   "metadata": {},
   "outputs": [
    {
     "name": "stdin",
     "output_type": "stream",
     "text": [
      "Hello, what is your name?  123\n"
     ]
    },
    {
     "name": "stdout",
     "output_type": "stream",
     "text": [
      "Hi,  123\n"
     ]
    }
   ],
   "source": [
    "#input\n",
    "name = input('Hello, what is your name? ')\n",
    "print('Hi, ', name)"
   ]
  },
  {
   "cell_type": "code",
   "execution_count": null,
   "id": "364026d6-f743-4deb-a3d4-5fe7b46e5677",
   "metadata": {},
   "outputs": [],
   "source": []
  }
 ],
 "metadata": {
  "kernelspec": {
   "display_name": "Python 3 (ipykernel)",
   "language": "python",
   "name": "python3"
  },
  "language_info": {
   "codemirror_mode": {
    "name": "ipython",
    "version": 3
   },
   "file_extension": ".py",
   "mimetype": "text/x-python",
   "name": "python",
   "nbconvert_exporter": "python",
   "pygments_lexer": "ipython3",
   "version": "3.9.7"
  }
 },
 "nbformat": 4,
 "nbformat_minor": 5
}
