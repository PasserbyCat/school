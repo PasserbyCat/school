{
 "cells": [
  {
   "cell_type": "code",
   "execution_count": 1,
   "id": "8cbf02fc-ea8c-45ba-9ea1-d7b03aed7199",
   "metadata": {},
   "outputs": [
    {
     "name": "stdout",
     "output_type": "stream",
     "text": [
      "<class 'range'>\n",
      "range(0, 10)\n",
      "range(5, 50, 5)\n"
     ]
    }
   ],
   "source": [
    "#range\n",
    "r1 = range(10)#0~9\n",
    "r2 = range(5, 50, 5)\n",
    "\n",
    "print(type(r1))#型態為range\n",
    "print(r1)\n",
    "print(r2)"
   ]
  },
  {
   "cell_type": "code",
   "execution_count": 2,
   "id": "68cd3c67-d06e-4314-86ac-f86e8e5e4dbc",
   "metadata": {},
   "outputs": [
    {
     "name": "stdout",
     "output_type": "stream",
     "text": [
      "<class 'tuple'>\n",
      "range(0, 10)\n",
      "range(5, 50, 5)\n"
     ]
    }
   ],
   "source": [
    "#tuple\n",
    "t1 = 10, 20\n",
    "t2 = 10, 'hello world'#可以存不同型態\n",
    "\n",
    "print(type(t1))#型態為tuple\n",
    "print(r1)\n",
    "print(r2)"
   ]
  },
  {
   "cell_type": "code",
   "execution_count": 3,
   "id": "569563da-dcc4-4077-a52d-81247338072d",
   "metadata": {},
   "outputs": [
    {
     "name": "stdout",
     "output_type": "stream",
     "text": [
      "<class 'list'>\n",
      "[[1, 2, 3], 2, 3]\n",
      "[10, 'hello world', 8.7]\n"
     ]
    }
   ],
   "source": [
    "#list\n",
    "arr1 = [1, 2, 3]\n",
    "arr2 = [10, 'hello world', 8.7]#可存不同型態\n",
    "arr1[0] = [1, 2, 3]#可只對其中一項改值\n",
    "\n",
    "print(type(arr1))#型態為list\n",
    "print(arr1)\n",
    "print(arr2)"
   ]
  },
  {
   "cell_type": "code",
   "execution_count": 4,
   "id": "364026d6-f743-4deb-a3d4-5fe7b46e5677",
   "metadata": {},
   "outputs": [
    {
     "name": "stdout",
     "output_type": "stream",
     "text": [
      "False\n",
      "hello python\n",
      "<class 'list'>\n",
      "['hello', 'python', 'journey']\n",
      "hello***python***journey\n"
     ]
    }
   ],
   "source": [
    "#string\n",
    "str1 = 'hello python'\n",
    "str2 = str1\n",
    "#str2[0] = 'y'#此寫法是不被允許的\n",
    "str2 += ' journey'#一般加減法不能寫a+=b,必須寫a=a+b\n",
    "print(str2 is str1)#比較兩者是否相等,作法同==(在string的時候)\n",
    "print(str1)\n",
    "result = str2.split(' ')#型態變成list\n",
    "print(type(result))\n",
    "print(result)\n",
    "result_back = '***'.join(result)#將result的每一項用***串接\n",
    "print(result_back)"
   ]
  },
  {
   "cell_type": "code",
   "execution_count": null,
   "id": "fdf1a1f7-7aae-4f62-9819-e77f1e19f16e",
   "metadata": {},
   "outputs": [],
   "source": []
  }
 ],
 "metadata": {
  "kernelspec": {
   "display_name": "Python 3 (ipykernel)",
   "language": "python",
   "name": "python3"
  },
  "language_info": {
   "codemirror_mode": {
    "name": "ipython",
    "version": 3
   },
   "file_extension": ".py",
   "mimetype": "text/x-python",
   "name": "python",
   "nbconvert_exporter": "python",
   "pygments_lexer": "ipython3",
   "version": "3.9.7"
  }
 },
 "nbformat": 4,
 "nbformat_minor": 5
}
