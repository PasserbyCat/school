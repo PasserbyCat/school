{
 "cells": [
  {
   "cell_type": "code",
   "execution_count": 2,
   "id": "8cbf02fc-ea8c-45ba-9ea1-d7b03aed7199",
   "metadata": {},
   "outputs": [
    {
     "name": "stdout",
     "output_type": "stream",
     "text": [
      "0\n",
      "1\n",
      "2\n",
      "3\n",
      "4\n",
      "5\n",
      "6\n",
      "7\n",
      "8\n",
      "9\n",
      "***\n",
      "\n",
      "0\n",
      "1\n",
      "2\n",
      "3\n",
      "4\n",
      "***\n",
      "\n",
      "2\n",
      "4\n",
      "6\n",
      "8\n",
      "10\n",
      "***\n",
      "\n",
      "h\n",
      "e\n",
      "l\n",
      "l\n",
      "o\n",
      " \n",
      "p\n",
      "y\n",
      "t\n",
      "h\n",
      "o\n",
      "n\n",
      "***\n",
      "\n",
      "[2, 4, 6, 8, 10]\n"
     ]
    }
   ],
   "source": [
    "#for loop教學\n",
    "arr1 = [2, 4, 6, 8, 10]\n",
    "str1 = 'hello python'\n",
    "\n",
    "for i in range(10):#range為0~9\n",
    "    print(i)\n",
    "print('***\\n')\n",
    "\n",
    "for i in range(len(arr1)):#len為5,range為0~4\n",
    "    print(i)\n",
    "print('***\\n')\n",
    "\n",
    "for i in arr1:#[2, 4, 6, 8, 10]\n",
    "    print(i)\n",
    "print('***\\n')\n",
    "\n",
    "for i in str1:#'hello python'\n",
    "    print(i)\n",
    "print('***\\n')\n",
    "\n",
    "for i in arr1:#[2, 4, 6, 8, 10]\n",
    "    i += 1#不影響arr1\n",
    "print(arr1)"
   ]
  },
  {
   "cell_type": "code",
   "execution_count": null,
   "id": "9c9a2215-a693-45ac-ae9f-e4ebec5c9687",
   "metadata": {},
   "outputs": [],
   "source": []
  }
 ],
 "metadata": {
  "kernelspec": {
   "display_name": "Python 3 (ipykernel)",
   "language": "python",
   "name": "python3"
  },
  "language_info": {
   "codemirror_mode": {
    "name": "ipython",
    "version": 3
   },
   "file_extension": ".py",
   "mimetype": "text/x-python",
   "name": "python",
   "nbconvert_exporter": "python",
   "pygments_lexer": "ipython3",
   "version": "3.9.7"
  }
 },
 "nbformat": 4,
 "nbformat_minor": 5
}
