{
 "cells": [
  {
   "cell_type": "code",
   "execution_count": 10,
   "id": "e382ba5c-81c0-4a08-94a2-648132c045fa",
   "metadata": {},
   "outputs": [
    {
     "name": "stdout",
     "output_type": "stream",
     "text": [
      "Hi, my name is Simon\n"
     ]
    }
   ],
   "source": [
    "print('Hi, my name is', 'Simon')#一般變數與字串必須用,(逗點)分隔"
   ]
  },
  {
   "cell_type": "code",
   "execution_count": 8,
   "id": "ff163b88-3fd4-4d0c-befc-1a15f18214c5",
   "metadata": {},
   "outputs": [
    {
     "name": "stdout",
     "output_type": "stream",
     "text": [
      "10 12.3 (3+5j) hello python True\n",
      "<class 'int'>\n",
      "<class 'float'>\n",
      "<class 'complex'>\n",
      "<class 'str'>\n",
      "<class 'bool'>\n",
      "None\n",
      "True\n"
     ]
    }
   ],
   "source": [
    "iv = 10\n",
    "fv = 12.3\n",
    "cv = 3 + 5j\n",
    "sv = 'hello python'\n",
    "bv = True\n",
    "nv = None\n",
    "#用初始值定義變數型態\n",
    "print(iv, fv, cv, sv, bv)\n",
    "print(type(iv))\n",
    "print(type(fv))\n",
    "print(type(cv))\n",
    "print(type(sv))\n",
    "print(type(bv))\n",
    "print(nv)\n",
    "print(isinstance(sv,str))#判斷型態回傳true/false"
   ]
  },
  {
   "cell_type": "code",
   "execution_count": 9,
   "id": "22ca4783-22c0-4b8c-8e96-bb3471df2317",
   "metadata": {},
   "outputs": [
    {
     "name": "stdin",
     "output_type": "stream",
     "text": [
      "Hello, what is your name?  1\n"
     ]
    },
    {
     "name": "stdout",
     "output_type": "stream",
     "text": [
      "Hi,  1\n"
     ]
    }
   ],
   "source": [
    "#input\n",
    "name = input('Hello, what is your name? ')\n",
    "print('Hi, ', name)"
   ]
  },
  {
   "cell_type": "code",
   "execution_count": 15,
   "id": "2b84dbfa-9422-4c1c-993d-d9f14558a1da",
   "metadata": {},
   "outputs": [
    {
     "name": "stdout",
     "output_type": "stream",
     "text": [
      "3\n",
      "2\n",
      "3\n"
     ]
    }
   ],
   "source": [
    "#assignment\n",
    "x = 3\n",
    "y = x\n",
    "y = 4\n",
    "print(x)\n",
    "#多重附值\n",
    "x, y = 2, 3\n",
    "print(x)\n",
    "print(y)"
   ]
  },
  {
   "cell_type": "code",
   "execution_count": 16,
   "id": "66edeb0f-944b-4f51-af70-7918060a1a4e",
   "metadata": {},
   "outputs": [
    {
     "name": "stdout",
     "output_type": "stream",
     "text": [
      "7\n",
      "3\n",
      "10\n",
      "2.5\n",
      "2\n",
      "1\n",
      "25\n",
      "False\n",
      "False\n",
      "True\n",
      "True\n",
      "False\n",
      "True\n",
      "True\n",
      "False\n",
      "False\n"
     ]
    }
   ],
   "source": [
    "#基本運算\n",
    "print(5+2)\n",
    "print(5-2)\n",
    "print(5*2)\n",
    "print(5/2)\n",
    "print(5//2)#取商數\n",
    "print(5%2)\n",
    "print(5**2)#5^2\n",
    "#比大小\n",
    "print(5<2)\n",
    "print(5<=2)\n",
    "print(5>2)\n",
    "print(5>=2)\n",
    "print(5==2)\n",
    "print(5!=2)\n",
    "#布林運算\n",
    "print(5!=2 or 5<=2)\n",
    "print(5==2 and 5>=2)\n",
    "print(not 5!=2)"
   ]
  },
  {
   "cell_type": "code",
   "execution_count": 17,
   "id": "702a79c9-7d39-4c89-80d1-226bae0e6d50",
   "metadata": {},
   "outputs": [
    {
     "name": "stdout",
     "output_type": "stream",
     "text": [
      "<class 'range'>\n",
      "range(0, 10)\n",
      "range(5, 50, 5)\n"
     ]
    }
   ],
   "source": [
    "#range\n",
    "r1 = range(10)#0~9\n",
    "r2 = range(5, 50, 5)\n",
    "\n",
    "print(type(r1))#型態為range\n",
    "print(r1)\n",
    "print(r2)"
   ]
  },
  {
   "cell_type": "code",
   "execution_count": 18,
   "id": "74448c0b-46ab-4daa-aed7-0709f4345e47",
   "metadata": {},
   "outputs": [
    {
     "name": "stdout",
     "output_type": "stream",
     "text": [
      "<class 'tuple'>\n",
      "range(0, 10)\n",
      "range(5, 50, 5)\n"
     ]
    }
   ],
   "source": [
    "#tuple\n",
    "t1 = 10, 20\n",
    "t2 = 10, 'hello world'#可以存不同型態\n",
    "\n",
    "print(type(t1))#型態為tuple\n",
    "print(r1)\n",
    "print(r2)"
   ]
  },
  {
   "cell_type": "code",
   "execution_count": 22,
   "id": "d3c03f3e-9813-46fc-b889-016c5f8c9c77",
   "metadata": {},
   "outputs": [
    {
     "name": "stdout",
     "output_type": "stream",
     "text": [
      "<class 'list'>\n",
      "[[1, 2, 3], 2, 3]\n",
      "[10, 'hello world', 8.7]\n"
     ]
    }
   ],
   "source": [
    "#list\n",
    "arr1 = [1, 2, 3]\n",
    "arr2 = [10, 'hello world', 8.7]#可存不同型態\n",
    "arr1[0] = [1, 2, 3]#可只對其中一項改值\n",
    "\n",
    "print(type(arr1))#型態為list\n",
    "print(arr1)\n",
    "print(arr2)"
   ]
  },
  {
   "cell_type": "code",
   "execution_count": 31,
   "id": "8bdb578f-bb5e-4eb0-8e1c-59bb9f9838d7",
   "metadata": {},
   "outputs": [
    {
     "name": "stdout",
     "output_type": "stream",
     "text": [
      "False\n",
      "hello python\n",
      "<class 'list'>\n",
      "['hello', 'python', 'journey']\n",
      "hello***python***journey\n"
     ]
    }
   ],
   "source": [
    "#string\n",
    "str1 = 'hello python'\n",
    "str2 = str1\n",
    "#str2[0] = 'y'#此寫法是不被允許的\n",
    "str2 += ' journey'#一般加減法不能寫a+=b,必須寫a=a+b\n",
    "print(str2 is str1)#比較兩者是否相等,作法同==(在string的時候)\n",
    "print(str1)\n",
    "result = str2.split(' ')#型態變成list\n",
    "print(type(result))\n",
    "print(result)\n",
    "result_back = '***'.join(result)#將result的每一項用***串接\n",
    "print(result_back)"
   ]
  },
  {
   "cell_type": "code",
   "execution_count": 34,
   "id": "6439b9a9-7f92-4c2f-9a61-b0df7f23c6e7",
   "metadata": {},
   "outputs": [
    {
     "name": "stdout",
     "output_type": "stream",
     "text": [
      "abc\n",
      "34\n",
      "e\n",
      "4.56\n",
      "('abc', 4.56, (2, 3))\n",
      "('abc', 4.56, (2, 3))\n",
      "(23, 'abc')\n",
      "(23, 'abc', 4.56, (2, 3), 'def')\n",
      "['abc', 32, 4.34, 23]\n",
      "['abc', 34, 4.34, 23]\n"
     ]
    }
   ],
   "source": [
    "tu = (23, 'abc', 4.56, (2, 3), 'def')#tuple用小括號定義\n",
    "li = [\"abc\", 34, 4.34, 23]#list用中括號定義\n",
    "st = \"Hello World\"\n",
    "st = 'Hello World'#string可用雙引號或單引號定義\n",
    "print(tu[1])#第一項是0,印出'abc'\n",
    "print(li[1])#第一項是0,印出34\n",
    "print(st[1])#第一項是0,印出'e'\n",
    "print(tu[-3])#最後一項是-1,往回數越小,印出4.56\n",
    "print(tu[1:4])#從1印到4但4不算,印出('abc',4.56,(2, 3))\n",
    "print(tu[1:-1])#從1印到-1但-1(即4)不算,只能順項印\n",
    "print(tu[:2])#從頭印到2但2不算,印出(23'abc)'\n",
    "print(tu[:])#全印\n",
    "list1 = li#此時li有第二個名稱list1但視為同一個list\n",
    "list2 = li[:]#此時list2為li的copy,兩者是不相關的\n",
    "li[1] = 32\n",
    "print(list1)\n",
    "print(list2)"
   ]
  },
  {
   "cell_type": "code",
   "execution_count": 37,
   "id": "566b86cb-6f69-4132-9562-d87039001dd4",
   "metadata": {},
   "outputs": [
    {
     "name": "stdout",
     "output_type": "stream",
     "text": [
      "[1, 2, 3, 4, 5]\n",
      "[1, 3, 5, 7, 9]\n",
      "[1, 2, 3, 4, 5, 6, 7, 8, 9, 10]\n",
      "False\n",
      " world\n",
      "[1, 2, 3, 4, 5, 6, 7, 8, 9]\n"
     ]
    }
   ],
   "source": [
    "str1 = 'hello world'\n",
    "arr1 = [1, 2, 3, 4, 5, 6, 7, 8, 9, 10]\n",
    "arr2 = arr1[0:5]\n",
    "arr3 = arr1[0:-1:2]#每隔兩個取一次\n",
    "arr4 = arr1[:]\n",
    "\n",
    "print(arr2)\n",
    "print(arr3)\n",
    "print(arr4)\n",
    "print(arr4 is arr1)#必須視同一個物件才會回傳true(在list的時候)\n",
    "print(str1[5:])\n",
    "print(arr1[:-1])"
   ]
  },
  {
   "cell_type": "code",
   "execution_count": 85,
   "id": "cca7cb62-3871-4c1e-ac86-d81968a66bd3",
   "metadata": {},
   "outputs": [
    {
     "name": "stdout",
     "output_type": "stream",
     "text": [
      "True x in s\n",
      "False x not in s\n",
      "[1, 2, 2, 3, 4, 5, 1, 2, 3, 4, 5] s + t\n",
      "[3, 4, 5, 3, 4, 5, 3, 4, 5] s * n\n",
      "8 len(s)\n",
      "1 min(s)\n",
      "5 max(s)\n",
      "1\n",
      "3 s.count(x)\n",
      "[1, 7, 2, 3, 4, 5, 1, 2] s[i] = x\n",
      "[1, 3, 4, 5, 3, 4, 5, 1, 2] s[i:j] = t\n",
      "[1, 3, 4, 4, 3, 5, 5, 1, 2] s[i:j:k] = t\n",
      "[1, 4, 3, 5, 5, 1, 2] del s[i:j]\n",
      "[1, 3, 5, 5, 1, 2] del s[i:j:k]\n",
      "[1, 3, 5, 5, 1, 2, 3] s.append(x)\n",
      "[] s.clear()\n",
      "[1, 3, 5, 5, 1, 2, 3] s.copy()\n",
      "[1, 3, 5, 5, 1, 2, 3, 3, 4, 5] s.extend(t)\n",
      "[1, 7, 3, 5, 5, 1, 2, 3, 3, 4, 5] s.insert(i,x)\n",
      "[1, 3, 5, 5, 1, 2, 3, 3, 4, 5] s.pop(i)\n",
      "[1, 3, 5, 5, 1, 3, 3, 4, 5] s.remove(x)\n",
      "[5, 4, 3, 3, 1, 5, 5, 3, 1] s.reverse()\n"
     ]
    }
   ],
   "source": [
    "arr1 = [1, 2, 2, 3, 4, 5, 1, 2]\n",
    "arr2 = [3, 4, 5]\n",
    "print(3 in arr2, 'x in s')#判斷是否存在在arr1\n",
    "print(3 not in arr2, 'x not in s')#判斷是否不存在arr1\n",
    "print(arr1 + arr2, 's + t')#內容相加\n",
    "print(arr2 * 3, 's * n')#arr1+arr1+arr1\n",
    "print(len(arr1), 'len(s)')#幾個元素\n",
    "print(min(arr1), 'min(s)')\n",
    "print(max(arr1), 'max(s)')\n",
    "print(arr1.index(2, 1, 6,)) #印出2在arr1[1]-arr1[6]的第一個位置\n",
    "print(arr1.count(2), 's.count(x)')#計算該元素出現在arr1的次數\n",
    "arr1[1]=7\n",
    "print(arr1, 's[i] = x')#對一個元素assign只能用一個元素\n",
    "arr1[1:3]=arr2\n",
    "print(arr1, 's[i:j] = t')#對一段assign多退少補\n",
    "arr1[1:6:2]=arr2\n",
    "print(arr1, 's[i:j:k] = t')#同上面那個不過要注意最後一個數字是不算的\n",
    "del arr1[1:3]\n",
    "print(arr1, 'del s[i:j]')#從i刪到j-1\n",
    "del arr1[1:3:2]\n",
    "print(arr1, 'del s[i:j:k]')#記得最後一位不算\n",
    "arr1.append(3)\n",
    "print(arr1, 's.append(x)')#在最後面放3\n",
    "arr2.clear()\n",
    "print(arr2, 's.clear()')#清空,和del s[:]同理\n",
    "arr2 = arr1.copy()\n",
    "print(arr2, 's.copy()')#和=s[:]同理\n",
    "arr2 = [3, 4, 5]\n",
    "arr1.extend(arr2)\n",
    "print(arr1, 's.extend(t)')#和s+t同理\n",
    "arr1.insert(1,7)\n",
    "print(arr1, 's.insert(i,x)')\n",
    "arr1.pop(1)\n",
    "print(arr1, 's.pop(i)')\n",
    "arr1.remove(2)\n",
    "print(arr1, 's.remove(x)')\n",
    "arr1.reverse()\n",
    "print(arr1, 's.reverse()')"
   ]
  },
  {
   "cell_type": "code",
   "execution_count": 73,
   "id": "aeac8ce2-11f0-4f72-b521-ef301291de40",
   "metadata": {},
   "outputs": [],
   "source": [
    "t = (23, 'abc', 4.56, (2,3), 'def')\n",
    "#t[2]=3.14 該指令不能執行，無法修改tuple內的單一元素"
   ]
  },
  {
   "cell_type": "code",
   "execution_count": 74,
   "id": "f8cf8f4a-4631-4148-a40d-1f9e0a66e735",
   "metadata": {},
   "outputs": [
    {
     "name": "stdout",
     "output_type": "stream",
     "text": [
      "['abc', 45, 4.34, 23]\n"
     ]
    }
   ],
   "source": [
    "li = ['abc', 23, 4.34, 23]\n",
    "li[1] = 45\n",
    "print(li)"
   ]
  },
  {
   "cell_type": "code",
   "execution_count": 94,
   "id": "ed95064b-0e01-4ebc-af93-3f68907e5023",
   "metadata": {},
   "outputs": [
    {
     "name": "stdout",
     "output_type": "stream",
     "text": [
      "[1, 2, 3, 4, 5, 'a']\n",
      "[1, 2, 'i', 3, 4, 5, 'a']\n",
      "[1, 2, 'i', 3, 4, 5, 'a', 9, 8, 7]\n",
      "[1, 2, 'i', 3, 4, 5, 'a', 9, 8, 7, [9, 8, 7]]\n"
     ]
    }
   ],
   "source": [
    "li = [1, 2, 3, 4, 5]\n",
    "li.append('a')\n",
    "print(li)\n",
    "li.insert(2, 'i')\n",
    "print(li)\n",
    "li.extend([9, 8, 7])#內容物是為多個物件\n",
    "print(li)\n",
    "li.append([9, 8, 7])#內容物視為單一物件\n",
    "print(li)"
   ]
  },
  {
   "cell_type": "code",
   "execution_count": 89,
   "id": "2e0b374d-6ff4-4456-8964-5285df83fade",
   "metadata": {},
   "outputs": [
    {
     "name": "stdout",
     "output_type": "stream",
     "text": [
      "1\n",
      "2\n",
      "['a', 'c', 'b']\n"
     ]
    }
   ],
   "source": [
    "li = ['a', 'b', 'c', 'b']\n",
    "print(li.index('b'))#找出他第一次出現的位置\n",
    "print(li.count('b'))#找出b出現的次數\n",
    "li.remove('b')\n",
    "print(li)"
   ]
  },
  {
   "cell_type": "code",
   "execution_count": 90,
   "id": "04afcafd-c388-40a4-99b7-1c9d8ca9269d",
   "metadata": {},
   "outputs": [
    {
     "name": "stdout",
     "output_type": "stream",
     "text": [
      "[8, 6, 2, 5]\n",
      "[2, 5, 6, 8]\n"
     ]
    }
   ],
   "source": [
    "li = [5, 2, 6, 8]\n",
    "li.reverse()#順序反轉\n",
    "print(li)\n",
    "li.sort()#由小排到大\n",
    "print(li)"
   ]
  },
  {
   "cell_type": "code",
   "execution_count": 91,
   "id": "c598f8cb-fd3e-4cc8-a352-fe5cf53b46d9",
   "metadata": {},
   "outputs": [
    {
     "name": "stdout",
     "output_type": "stream",
     "text": [
      "Excellent!\n"
     ]
    }
   ],
   "source": [
    "#if elif else 教學\n",
    "grade = 90\n",
    "if grade >= 90:\n",
    "    print('Excellent!')\n",
    "elif grade >= 60:\n",
    "    print('Good enough!')\n",
    "else:\n",
    "    print('Loser!')"
   ]
  },
  {
   "cell_type": "code",
   "execution_count": 92,
   "id": "6e7700ae-e049-4437-a9f7-02465b4f50c6",
   "metadata": {},
   "outputs": [
    {
     "name": "stdout",
     "output_type": "stream",
     "text": [
      "0\n",
      "1\n",
      "2\n",
      "3\n",
      "4\n",
      "5\n",
      "6\n",
      "7\n",
      "8\n",
      "9\n",
      "***\n",
      "\n",
      "0\n",
      "1\n",
      "2\n",
      "3\n",
      "4\n",
      "***\n",
      "\n",
      "2\n",
      "4\n",
      "6\n",
      "8\n",
      "10\n",
      "***\n",
      "\n",
      "h\n",
      "e\n",
      "l\n",
      "l\n",
      "o\n",
      " \n",
      "p\n",
      "y\n",
      "t\n",
      "h\n",
      "o\n",
      "n\n",
      "***\n",
      "\n",
      "[2, 4, 6, 8, 10]\n"
     ]
    }
   ],
   "source": [
    "#for loop教學\n",
    "arr1 = [2, 4, 6, 8, 10]\n",
    "str1 = 'hello python'\n",
    "\n",
    "for i in range(10):#range為0~9\n",
    "    print(i)\n",
    "print('***\\n')\n",
    "\n",
    "for i in range(len(arr1)):#len為5,range為0~4\n",
    "    print(i)\n",
    "print('***\\n')\n",
    "\n",
    "for i in arr1:#[2, 4, 6, 8, 10]\n",
    "    print(i)\n",
    "print('***\\n')\n",
    "\n",
    "for i in str1:#'hello python'\n",
    "    print(i)\n",
    "print('***\\n')\n",
    "\n",
    "for i in arr1:#[2, 4, 6, 8, 10]\n",
    "    i += 1#不影響arr1\n",
    "print(arr1)"
   ]
  },
  {
   "cell_type": "code",
   "execution_count": null,
   "id": "f06a240e-f08c-416c-896b-be82c7b92456",
   "metadata": {},
   "outputs": [],
   "source": []
  }
 ],
 "metadata": {
  "kernelspec": {
   "display_name": "Python 3 (ipykernel)",
   "language": "python",
   "name": "python3"
  },
  "language_info": {
   "codemirror_mode": {
    "name": "ipython",
    "version": 3
   },
   "file_extension": ".py",
   "mimetype": "text/x-python",
   "name": "python",
   "nbconvert_exporter": "python",
   "pygments_lexer": "ipython3",
   "version": "3.9.7"
  }
 },
 "nbformat": 4,
 "nbformat_minor": 5
}
